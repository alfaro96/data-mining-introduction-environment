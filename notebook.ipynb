{
 "cells": [
  {
   "cell_type": "markdown",
   "source": "# Práctica 0: Introducción a `Jupyter`\n\n## Minería de Datos\n\n### Curso académico 2021-2022\n\n#### Profesorado:\n\n* Juan Carlos Alfaro Jiménez\n* José Antonio Gámez Martín\n\n---\n\n**Nota**: Adaptado de las prácticas de Jacinto Arias Martínez y Enrique González Rodrigo.\n\n----\n\nEn esta práctica introduciremos las capacidades básicas de `Jupyter` y veremos las librerías que emplearemos durante el curso.",
   "metadata": {
    "papermill": {
     "duration": 0.09616,
     "end_time": "2020-12-09T08:47:46.632784",
     "exception": false,
     "start_time": "2020-12-09T08:47:46.536624",
     "status": "completed"
    },
    "tags": [],
    "cell_id": "00000-69fb22cc-2a9b-462c-a3b9-868443f9ba27",
    "deepnote_cell_type": "markdown"
   }
  },
  {
   "cell_type": "markdown",
   "source": "## 1. `Markdown`\n\nEl formato de anotado de texto `Markdown` es uno de los más populares hoy en día, después de `HTML`. Esto se debe a que, siendo solo un superconjunto con respecto a este último, la forma de trabajar es mucho más ligera, y por ello podemos usarlo en multitud de sitios. Generalmente se usa mucho para documentar pequeños fragmentos de texto, como los ficheros [`README.md`](https://github.com/alfaro96/data-mining-introduction-jupyter).\n\nLa sintaxis es muy reducida y fácil de aprender, podéis consultarla en el siguiente [enlace](https://nbviewer.jupyter.org/github/jupyter/notebook/blob/master/docs/source/examples/Notebook/Working%20With%20Markdown%20Cells.ipynb). A continuación se muestran las capacidades básicas:",
   "metadata": {
    "cell_id": "00001-583ddf18-cf4f-4838-b137-5508f13fb0c7",
    "deepnote_cell_type": "markdown"
   }
  },
  {
   "cell_type": "markdown",
   "source": "### Base\n\nSe puede añadir texto en *itálica* o **negrita** rodeándolo con uno o dos asteriscos, respectivamente.\n\nAdemás es posible añadir listas sin numerar:\n\n* Esto es un ítem sin numerar.\n    * Esto es un subítem sin numerar.\n        * Esto es un subsubítem sin numerar.     \n* Esto es otro ítem sin numerar.\n\nY numeradas:\n\n1. Esto es un ítem numerado.\n    1. Esto es un subítem numerado.\n        1. Esto es un subsubítem numerado.\n2. Esto es otro ítem numerado.",
   "metadata": {
    "papermill": {
     "duration": 0.093449,
     "end_time": "2020-12-09T08:47:47.382921",
     "exception": false,
     "start_time": "2020-12-09T08:47:47.289472",
     "status": "completed"
    },
    "tags": [],
    "cell_id": "00002-811ead4f-80f4-4064-a7b9-f8f435fa06b3",
    "deepnote_cell_type": "markdown"
   }
  },
  {
   "cell_type": "markdown",
   "source": "### Encabezados\n\nPara crear encabezados se deben escribir almohadillas seguidas de un espacio en blanco:\n\n# Encabezado 1\n## Encabezado 1.1\n### Encabezado 1.1.1\n#### Encabezado 1.1.1.1",
   "metadata": {
    "papermill": {
     "duration": 0.093845,
     "end_time": "2020-12-09T08:47:47.757805",
     "exception": false,
     "start_time": "2020-12-09T08:47:47.663960",
     "status": "completed"
    },
    "tags": [],
    "cell_id": "00003-30c28c53-108c-4c86-915f-f5fc41f25922",
    "deepnote_cell_type": "markdown"
   }
  },
  {
   "cell_type": "markdown",
   "source": "## 2. Librerías científicas de `Python`\n\nA continuación veremos las funcionalidades básicas de las librerías de `Python` que utilizaremos. Pero antes de ello, vamos a fijar una semilla para asegurar que la generación de números aleatorios se produce de acuerdo a un patrón. Esto nos permite garantizar la reproducibilidad de los experimentos, algo de vital importancia para que otros científicos puedan replicar los resultados que hayamos obtenido. Como estamos en un entorno interactivo, es muy probable que ejecutemos cada celda varias veces. Esto puede llevar a resultados que no son reproducibles, por lo que es recomendable reiniciar la libreta y ejecutar todo de manera secuencial una única vez, para así asegurar que los resultados son deterministas.",
   "metadata": {
    "papermill": {
     "duration": 0.096511,
     "end_time": "2020-12-09T08:47:50.488320",
     "exception": false,
     "start_time": "2020-12-09T08:47:50.391809",
     "status": "completed"
    },
    "tags": [],
    "cell_id": "00004-6fa5b650-22ee-411f-8dec-e6b998bbf232",
    "deepnote_cell_type": "markdown"
   }
  },
  {
   "cell_type": "code",
   "metadata": {
    "execution": {
     "iopub.execute_input": "2020-12-09T08:47:51.305600Z",
     "iopub.status.busy": "2020-12-09T08:47:51.304789Z",
     "iopub.status.idle": "2020-12-09T08:47:51.308043Z",
     "shell.execute_reply": "2020-12-09T08:47:51.307347Z"
    },
    "papermill": {
     "duration": 0.105746,
     "end_time": "2020-12-09T08:47:51.308166",
     "exception": false,
     "start_time": "2020-12-09T08:47:51.202420",
     "status": "completed"
    },
    "tags": [],
    "cell_id": "00005-fdc6fd90-4d06-4f5b-8177-febf1d1a16a3",
    "deepnote_cell_type": "code"
   },
   "source": "seed = random_state = 707005",
   "execution_count": null,
   "outputs": []
  },
  {
   "cell_type": "markdown",
   "source": "### 2.1. `NumPy`\n\n`NumPy` es el paquete fundamental de `Python` para entornos científicos, principalmente caracterizado por su motor de operaciones de álgebra lineal.\n\nSe trata de una librería sumamente amplia, por lo que solo veremos su funcionalidad básica. No obstante, un tutorial más exhaustivo se ofrece en este [enlace](https://numpy.org/doc/stable/user/quickstart.html).",
   "metadata": {
    "_uuid": "c59d9c38594315100b6fa733b411c0eb25090b5b",
    "papermill": {
     "duration": 0.0976,
     "end_time": "2020-12-09T08:47:51.503589",
     "exception": false,
     "start_time": "2020-12-09T08:47:51.405989",
     "status": "completed"
    },
    "tags": [],
    "cell_id": "00006-344a396e-3b34-4c0d-a61e-174fe6eb6245",
    "deepnote_cell_type": "markdown"
   }
  },
  {
   "cell_type": "markdown",
   "source": "#### Creación de *arrays*\n\nPodemos crear *arrays* de distintas dimensiones utilizando, para ello, distintas [rutinas](https://numpy.org/doc/stable/reference/routines.array-creation.html). En este caso, solo veremos las más utilizadas.\n\nPara inicializar *arrays* de 1 dimensión podemos usar, por ejemplo, listas de `Python`:",
   "metadata": {
    "_uuid": "222a797187cc4e0136d58072bb4594f832fa7b55",
    "papermill": {
     "duration": 0.097806,
     "end_time": "2020-12-09T08:47:51.902200",
     "exception": false,
     "start_time": "2020-12-09T08:47:51.804394",
     "status": "completed"
    },
    "tags": [],
    "cell_id": "00007-d0758050-45fd-4960-9836-0e7bf027675b",
    "deepnote_cell_type": "markdown"
   }
  },
  {
   "cell_type": "code",
   "metadata": {
    "cell_id": "00008-0044f55d-17e1-4b50-b968-2da9b1c26dae",
    "deepnote_cell_type": "code"
   },
   "source": "import numpy as np",
   "execution_count": null,
   "outputs": []
  },
  {
   "cell_type": "code",
   "metadata": {
    "cell_id": "00009-e0841cbd-9460-421f-bf73-24117cef80fb",
    "deepnote_cell_type": "code"
   },
   "source": "sequence = [0, 1, 2, 3]",
   "execution_count": null,
   "outputs": []
  },
  {
   "cell_type": "code",
   "metadata": {
    "_uuid": "0ddd069377162fc5f5e2f22a6552af1521898fd0",
    "execution": {
     "iopub.execute_input": "2020-12-09T08:47:52.302164Z",
     "iopub.status.busy": "2020-12-09T08:47:52.301240Z",
     "iopub.status.idle": "2020-12-09T08:47:52.305773Z",
     "shell.execute_reply": "2020-12-09T08:47:52.305065Z"
    },
    "papermill": {
     "duration": 0.109846,
     "end_time": "2020-12-09T08:47:52.305925",
     "exception": false,
     "start_time": "2020-12-09T08:47:52.196079",
     "status": "completed"
    },
    "tags": [],
    "cell_id": "00010-1555c695-68e7-40bd-8944-c69e4d4ecacc",
    "deepnote_cell_type": "code"
   },
   "source": "arr = np.array(sequence)",
   "execution_count": null,
   "outputs": []
  },
  {
   "cell_type": "code",
   "metadata": {
    "cell_id": "00011-f7aad657-2c95-4596-8e40-f14905ee8d1b",
    "deepnote_cell_type": "code"
   },
   "source": "arr",
   "execution_count": null,
   "outputs": [
    {
     "data": {
      "text/plain": "array([0, 1, 2, 3])"
     },
     "execution_count": 5,
     "metadata": {},
     "output_type": "execute_result"
    }
   ]
  },
  {
   "cell_type": "markdown",
   "source": "O generadores de rangos de `NumPy`:",
   "metadata": {
    "papermill": {
     "duration": 0.098309,
     "end_time": "2020-12-09T08:47:52.502186",
     "exception": false,
     "start_time": "2020-12-09T08:47:52.403877",
     "status": "completed"
    },
    "tags": [],
    "cell_id": "00012-6f8dc9b3-2886-4958-a72f-0dc9d0239825",
    "deepnote_cell_type": "markdown"
   }
  },
  {
   "cell_type": "code",
   "metadata": {
    "execution": {
     "iopub.execute_input": "2020-12-09T08:47:52.704698Z",
     "iopub.status.busy": "2020-12-09T08:47:52.703790Z",
     "iopub.status.idle": "2020-12-09T08:47:52.707790Z",
     "shell.execute_reply": "2020-12-09T08:47:52.707085Z"
    },
    "papermill": {
     "duration": 0.107484,
     "end_time": "2020-12-09T08:47:52.707918",
     "exception": false,
     "start_time": "2020-12-09T08:47:52.600434",
     "status": "completed"
    },
    "tags": [],
    "cell_id": "00013-3b92422a-f340-44b0-9466-448de778d651",
    "deepnote_cell_type": "code"
   },
   "source": "arr = np.arange(4)",
   "execution_count": null,
   "outputs": []
  },
  {
   "cell_type": "code",
   "metadata": {
    "cell_id": "00014-0ed90c0f-225c-44a5-9ec9-efd601a228d3",
    "deepnote_cell_type": "code"
   },
   "source": "arr",
   "execution_count": null,
   "outputs": [
    {
     "data": {
      "text/plain": "array([0, 1, 2, 3])"
     },
     "execution_count": 7,
     "metadata": {},
     "output_type": "execute_result"
    }
   ]
  },
  {
   "cell_type": "markdown",
   "source": "También se pueden crear *arrays* de dos dimensiones:",
   "metadata": {
    "papermill": {
     "duration": 0.09848,
     "end_time": "2020-12-09T08:47:52.905545",
     "exception": false,
     "start_time": "2020-12-09T08:47:52.807065",
     "status": "completed"
    },
    "tags": [],
    "cell_id": "00015-ec54c78d-8a10-49ea-abb1-516439a35128",
    "deepnote_cell_type": "markdown"
   }
  },
  {
   "cell_type": "code",
   "metadata": {
    "execution": {
     "iopub.execute_input": "2020-12-09T08:47:53.321046Z",
     "iopub.status.busy": "2020-12-09T08:47:53.320091Z",
     "iopub.status.idle": "2020-12-09T08:47:53.324785Z",
     "shell.execute_reply": "2020-12-09T08:47:53.324065Z"
    },
    "papermill": {
     "duration": 0.109844,
     "end_time": "2020-12-09T08:47:53.324929",
     "exception": false,
     "start_time": "2020-12-09T08:47:53.215085",
     "status": "completed"
    },
    "tags": [],
    "cell_id": "00016-59ff0f00-fe1d-444c-b9d6-ac49e459aeff",
    "deepnote_cell_type": "code"
   },
   "source": "arr = np.arange(12).reshape(3, 4)",
   "execution_count": null,
   "outputs": []
  },
  {
   "cell_type": "code",
   "metadata": {
    "cell_id": "00017-acb53180-69a2-404c-ae93-b5f8ed2c7adc",
    "deepnote_cell_type": "code"
   },
   "source": "arr",
   "execution_count": null,
   "outputs": [
    {
     "data": {
      "text/plain": "array([[ 0,  1,  2,  3],\n       [ 4,  5,  6,  7],\n       [ 8,  9, 10, 11]])"
     },
     "execution_count": 9,
     "metadata": {},
     "output_type": "execute_result"
    }
   ]
  },
  {
   "cell_type": "markdown",
   "source": "El acceso a los elementos de los *arrays* se realiza de manera análoga al utilizado para las listas de `Python`. Por ejemplo, podemos acceder a la segunda fila:",
   "metadata": {
    "papermill": {
     "duration": 0.099807,
     "end_time": "2020-12-09T08:47:53.525437",
     "exception": false,
     "start_time": "2020-12-09T08:47:53.425630",
     "status": "completed"
    },
    "tags": [],
    "cell_id": "00018-95c59909-4add-48fb-8591-e6fad68fab3a",
    "deepnote_cell_type": "markdown"
   }
  },
  {
   "cell_type": "code",
   "metadata": {
    "execution": {
     "iopub.execute_input": "2020-12-09T08:47:53.732101Z",
     "iopub.status.busy": "2020-12-09T08:47:53.731110Z",
     "iopub.status.idle": "2020-12-09T08:47:53.735838Z",
     "shell.execute_reply": "2020-12-09T08:47:53.735233Z"
    },
    "papermill": {
     "duration": 0.110034,
     "end_time": "2020-12-09T08:47:53.735995",
     "exception": false,
     "start_time": "2020-12-09T08:47:53.625961",
     "status": "completed"
    },
    "tags": [],
    "cell_id": "00019-54b34686-044b-4703-a76e-3fcb25e0790b",
    "deepnote_cell_type": "code"
   },
   "source": "arr[1]",
   "execution_count": null,
   "outputs": [
    {
     "data": {
      "text/plain": "array([4, 5, 6, 7])"
     },
     "execution_count": 10,
     "metadata": {},
     "output_type": "execute_result"
    }
   ]
  },
  {
   "cell_type": "markdown",
   "source": "A la primera fila y tercera columna:",
   "metadata": {
    "papermill": {
     "duration": 0.10086,
     "end_time": "2020-12-09T08:47:53.938136",
     "exception": false,
     "start_time": "2020-12-09T08:47:53.837276",
     "status": "completed"
    },
    "tags": [],
    "cell_id": "00020-fb7cfd1b-844a-4b1c-9862-cd4c56f70579",
    "deepnote_cell_type": "markdown"
   }
  },
  {
   "cell_type": "code",
   "metadata": {
    "execution": {
     "iopub.execute_input": "2020-12-09T08:47:54.146444Z",
     "iopub.status.busy": "2020-12-09T08:47:54.145434Z",
     "iopub.status.idle": "2020-12-09T08:47:54.148675Z",
     "shell.execute_reply": "2020-12-09T08:47:54.149352Z"
    },
    "papermill": {
     "duration": 0.110264,
     "end_time": "2020-12-09T08:47:54.149500",
     "exception": false,
     "start_time": "2020-12-09T08:47:54.039236",
     "status": "completed"
    },
    "tags": [],
    "cell_id": "00021-08c3c5f7-f883-420a-9632-f0b3f88bd5ca",
    "deepnote_cell_type": "code"
   },
   "source": "arr[0][2]",
   "execution_count": null,
   "outputs": [
    {
     "data": {
      "text/plain": "2"
     },
     "execution_count": 11,
     "metadata": {},
     "output_type": "execute_result"
    }
   ]
  },
  {
   "cell_type": "markdown",
   "source": "O equivalentemente:",
   "metadata": {
    "papermill": {
     "duration": 0.101096,
     "end_time": "2020-12-09T08:47:54.351630",
     "exception": false,
     "start_time": "2020-12-09T08:47:54.250534",
     "status": "completed"
    },
    "tags": [],
    "cell_id": "00022-3a6e4ced-f0e1-4793-a482-00e7f9a36be1",
    "deepnote_cell_type": "markdown"
   }
  },
  {
   "cell_type": "code",
   "metadata": {
    "execution": {
     "iopub.execute_input": "2020-12-09T08:47:54.561382Z",
     "iopub.status.busy": "2020-12-09T08:47:54.560413Z",
     "iopub.status.idle": "2020-12-09T08:47:54.564947Z",
     "shell.execute_reply": "2020-12-09T08:47:54.564364Z"
    },
    "papermill": {
     "duration": 0.111554,
     "end_time": "2020-12-09T08:47:54.565068",
     "exception": false,
     "start_time": "2020-12-09T08:47:54.453514",
     "status": "completed"
    },
    "tags": [],
    "cell_id": "00023-b78cc6a3-42bd-4e42-9428-781f240fe9ac",
    "deepnote_cell_type": "code"
   },
   "source": "arr[0, 2]",
   "execution_count": null,
   "outputs": [
    {
     "data": {
      "text/plain": "2"
     },
     "execution_count": 12,
     "metadata": {},
     "output_type": "execute_result"
    }
   ]
  },
  {
   "cell_type": "markdown",
   "source": "Tal y como se puede observar, no es necesario utilizar un par de corchetes para acceder al elemento de cada dimensión, puesto que se puede indexar directamente mediante un único par separando, mediante comas, las distintas dimensiones.",
   "metadata": {
    "papermill": {
     "duration": 0.101683,
     "end_time": "2020-12-09T08:47:54.768498",
     "exception": false,
     "start_time": "2020-12-09T08:47:54.666815",
     "status": "completed"
    },
    "tags": [],
    "cell_id": "00024-3f1057b7-8a17-488b-883c-933b08c65744",
    "deepnote_cell_type": "markdown"
   }
  },
  {
   "cell_type": "markdown",
   "source": "También podemos crear *arrays* con un tamaño y valores predeterminados. Por ejemplo, un *array* de todo ceros:",
   "metadata": {
    "cell_id": "00025-50c6b174-ebb8-42e6-be8c-bfa1a0515d25",
    "deepnote_cell_type": "markdown"
   }
  },
  {
   "cell_type": "code",
   "metadata": {
    "cell_id": "00026-e63a9d4e-c602-4eea-9b4d-d6cc4e66e34e",
    "deepnote_cell_type": "code"
   },
   "source": "shape = (3, 3)",
   "execution_count": null,
   "outputs": []
  },
  {
   "cell_type": "code",
   "metadata": {
    "execution": {
     "iopub.execute_input": "2020-12-09T08:47:55.208823Z",
     "iopub.status.busy": "2020-12-09T08:47:55.207784Z",
     "iopub.status.idle": "2020-12-09T08:47:55.211905Z",
     "shell.execute_reply": "2020-12-09T08:47:55.211200Z"
    },
    "papermill": {
     "duration": 0.12141,
     "end_time": "2020-12-09T08:47:55.212023",
     "exception": false,
     "start_time": "2020-12-09T08:47:55.090613",
     "status": "completed"
    },
    "tags": [],
    "cell_id": "00027-50e0ee3b-663b-41c5-af2c-a3a8d69256d9",
    "deepnote_cell_type": "code"
   },
   "source": "arr = np.zeros(shape)",
   "execution_count": null,
   "outputs": []
  },
  {
   "cell_type": "code",
   "metadata": {
    "cell_id": "00028-fdcaa4b3-1c05-455a-bc1f-de7bab9fb8a8",
    "deepnote_cell_type": "code"
   },
   "source": "arr",
   "execution_count": null,
   "outputs": [
    {
     "data": {
      "text/plain": "array([[0., 0., 0.],\n       [0., 0., 0.],\n       [0., 0., 0.]])"
     },
     "execution_count": 15,
     "metadata": {},
     "output_type": "execute_result"
    }
   ]
  },
  {
   "cell_type": "markdown",
   "source": "Todo unos:",
   "metadata": {
    "papermill": {
     "duration": 0.101395,
     "end_time": "2020-12-09T08:47:55.454463",
     "exception": false,
     "start_time": "2020-12-09T08:47:55.353068",
     "status": "completed"
    },
    "tags": [],
    "cell_id": "00029-ed74e08c-50f2-4fad-ac81-b33dfb16bec4",
    "deepnote_cell_type": "markdown"
   }
  },
  {
   "cell_type": "code",
   "metadata": {
    "execution": {
     "iopub.execute_input": "2020-12-09T08:47:55.666730Z",
     "iopub.status.busy": "2020-12-09T08:47:55.665883Z",
     "iopub.status.idle": "2020-12-09T08:47:55.669289Z",
     "shell.execute_reply": "2020-12-09T08:47:55.669812Z"
    },
    "papermill": {
     "duration": 0.113553,
     "end_time": "2020-12-09T08:47:55.669980",
     "exception": false,
     "start_time": "2020-12-09T08:47:55.556427",
     "status": "completed"
    },
    "scrolled": true,
    "tags": [],
    "cell_id": "00030-f4714cb2-a7f4-4e6f-8218-165ef090e7db",
    "deepnote_cell_type": "code"
   },
   "source": "arr = np.ones(shape)",
   "execution_count": null,
   "outputs": []
  },
  {
   "cell_type": "code",
   "metadata": {
    "cell_id": "00031-7cdabd2a-23a6-4e22-a231-885ed5b04d3d",
    "deepnote_cell_type": "code"
   },
   "source": "arr",
   "execution_count": null,
   "outputs": [
    {
     "data": {
      "text/plain": "array([[1., 1., 1.],\n       [1., 1., 1.],\n       [1., 1., 1.]])"
     },
     "execution_count": 17,
     "metadata": {},
     "output_type": "execute_result"
    }
   ]
  },
  {
   "cell_type": "markdown",
   "source": "O incluso todo unos en la diagonal principal:",
   "metadata": {
    "papermill": {
     "duration": 0.11645,
     "end_time": "2020-12-09T08:47:55.892569",
     "exception": false,
     "start_time": "2020-12-09T08:47:55.776119",
     "status": "completed"
    },
    "tags": [],
    "cell_id": "00032-ea980126-b3e8-44d1-8753-460a2b595792",
    "deepnote_cell_type": "markdown"
   }
  },
  {
   "cell_type": "code",
   "metadata": {
    "execution": {
     "iopub.execute_input": "2020-12-09T08:47:56.117898Z",
     "iopub.status.busy": "2020-12-09T08:47:56.116807Z",
     "iopub.status.idle": "2020-12-09T08:47:56.122186Z",
     "shell.execute_reply": "2020-12-09T08:47:56.121291Z"
    },
    "papermill": {
     "duration": 0.121249,
     "end_time": "2020-12-09T08:47:56.122340",
     "exception": false,
     "start_time": "2020-12-09T08:47:56.001091",
     "status": "completed"
    },
    "tags": [],
    "cell_id": "00033-5d3394ac-2150-41cd-a664-56d95af85eeb",
    "deepnote_cell_type": "code"
   },
   "source": "arr = np.eye(3, 3)",
   "execution_count": null,
   "outputs": []
  },
  {
   "cell_type": "code",
   "metadata": {
    "cell_id": "00034-fe721e64-89d7-443d-99c1-3fd2b45dcb40",
    "deepnote_cell_type": "code"
   },
   "source": "arr",
   "execution_count": null,
   "outputs": [
    {
     "data": {
      "text/plain": "array([[1., 0., 0.],\n       [0., 1., 0.],\n       [0., 0., 1.]])"
     },
     "execution_count": 19,
     "metadata": {},
     "output_type": "execute_result"
    }
   ]
  },
  {
   "cell_type": "markdown",
   "source": "#### Propiedades\n\nPodemos acceder a diversas propiedades de un *array* como el tamaño de sus dimensiones:",
   "metadata": {
    "_uuid": "cfb4d36c42a9f9eb0ce737fadfdef33a20865d29",
    "papermill": {
     "duration": 0.103156,
     "end_time": "2020-12-09T08:47:56.334239",
     "exception": false,
     "start_time": "2020-12-09T08:47:56.231083",
     "status": "completed"
    },
    "tags": [],
    "cell_id": "00035-a0d9b924-a090-4a68-8d18-a75cba04c890",
    "deepnote_cell_type": "markdown"
   }
  },
  {
   "cell_type": "code",
   "metadata": {
    "execution": {
     "iopub.execute_input": "2020-12-09T08:47:56.757676Z",
     "iopub.status.busy": "2020-12-09T08:47:56.756668Z",
     "iopub.status.idle": "2020-12-09T08:47:56.761118Z",
     "shell.execute_reply": "2020-12-09T08:47:56.760401Z"
    },
    "papermill": {
     "duration": 0.112406,
     "end_time": "2020-12-09T08:47:56.761238",
     "exception": false,
     "start_time": "2020-12-09T08:47:56.648832",
     "status": "completed"
    },
    "tags": [],
    "cell_id": "00036-1c40c028-fda5-470a-8431-916fad7cdf7d",
    "deepnote_cell_type": "code"
   },
   "source": "arr.shape",
   "execution_count": null,
   "outputs": [
    {
     "data": {
      "text/plain": "(3, 3)"
     },
     "execution_count": 20,
     "metadata": {},
     "output_type": "execute_result"
    }
   ]
  },
  {
   "cell_type": "markdown",
   "source": "El número de dimensiones:",
   "metadata": {
    "papermill": {
     "duration": 0.103918,
     "end_time": "2020-12-09T08:47:56.969693",
     "exception": false,
     "start_time": "2020-12-09T08:47:56.865775",
     "status": "completed"
    },
    "tags": [],
    "cell_id": "00037-874fca54-f5c7-4125-b2a6-ed93c1f11468",
    "deepnote_cell_type": "markdown"
   }
  },
  {
   "cell_type": "code",
   "metadata": {
    "execution": {
     "iopub.execute_input": "2020-12-09T08:47:57.184832Z",
     "iopub.status.busy": "2020-12-09T08:47:57.184137Z",
     "iopub.status.idle": "2020-12-09T08:47:57.189136Z",
     "shell.execute_reply": "2020-12-09T08:47:57.188395Z"
    },
    "papermill": {
     "duration": 0.114364,
     "end_time": "2020-12-09T08:47:57.189257",
     "exception": false,
     "start_time": "2020-12-09T08:47:57.074893",
     "status": "completed"
    },
    "tags": [],
    "cell_id": "00038-7f47bafb-775f-4c05-a92a-a5f8c37fe67c",
    "deepnote_cell_type": "code"
   },
   "source": "arr.ndim",
   "execution_count": null,
   "outputs": [
    {
     "data": {
      "text/plain": "2"
     },
     "execution_count": 21,
     "metadata": {},
     "output_type": "execute_result"
    }
   ]
  },
  {
   "cell_type": "markdown",
   "source": "O el tipo de datos:",
   "metadata": {
    "papermill": {
     "duration": 0.104852,
     "end_time": "2020-12-09T08:47:57.399980",
     "exception": false,
     "start_time": "2020-12-09T08:47:57.295128",
     "status": "completed"
    },
    "tags": [],
    "cell_id": "00039-a6d3f4ff-209d-4322-ab4e-914b5cd7b61d",
    "deepnote_cell_type": "markdown"
   }
  },
  {
   "cell_type": "code",
   "metadata": {
    "execution": {
     "iopub.execute_input": "2020-12-09T08:47:57.616912Z",
     "iopub.status.busy": "2020-12-09T08:47:57.615777Z",
     "iopub.status.idle": "2020-12-09T08:47:57.620636Z",
     "shell.execute_reply": "2020-12-09T08:47:57.620034Z"
    },
    "papermill": {
     "duration": 0.115567,
     "end_time": "2020-12-09T08:47:57.620755",
     "exception": false,
     "start_time": "2020-12-09T08:47:57.505188",
     "status": "completed"
    },
    "tags": [],
    "cell_id": "00040-9f002ff7-b5a1-4acf-a092-e4e0ca2dc386",
    "deepnote_cell_type": "code"
   },
   "source": "arr.dtype.name",
   "execution_count": null,
   "outputs": [
    {
     "data": {
      "text/plain": "'float64'"
     },
     "execution_count": 22,
     "metadata": {},
     "output_type": "execute_result"
    }
   ]
  },
  {
   "cell_type": "markdown",
   "source": "La lista exhaustiva de las propiedades de los *arrays* de `NumPy` se proporciona en la [documentación](https://numpy.org/doc/stable/reference/generated/numpy.ndarray.html) del objeto `ndarray`.",
   "metadata": {
    "papermill": {
     "duration": 0.105357,
     "end_time": "2020-12-09T08:47:57.831226",
     "exception": false,
     "start_time": "2020-12-09T08:47:57.725869",
     "status": "completed"
    },
    "tags": [],
    "cell_id": "00041-684e4b99-337b-4891-96a7-7f8f57ebe703",
    "deepnote_cell_type": "markdown"
   }
  },
  {
   "cell_type": "markdown",
   "source": "#### Operaciones\n\n`NumPy` contiene multitud de [rutinas matemáticas](https://numpy.org/doc/stable/reference/routines.math.html) en referencia a los elementos de los *arrays* y de operaciones de álgebra lineal. Por ejemplo, podemos sumar, restar, multiplicar, dividir, etc. todos los valores de un *array* por una constante:",
   "metadata": {
    "cell_id": "00042-d5a2dfe4-f341-4fcf-9f83-2d10d6e5b285",
    "deepnote_cell_type": "markdown"
   }
  },
  {
   "cell_type": "code",
   "metadata": {
    "execution": {
     "iopub.execute_input": "2020-12-09T08:47:58.471080Z",
     "iopub.status.busy": "2020-12-09T08:47:58.470124Z",
     "iopub.status.idle": "2020-12-09T08:47:58.474632Z",
     "shell.execute_reply": "2020-12-09T08:47:58.474009Z"
    },
    "papermill": {
     "duration": 0.115161,
     "end_time": "2020-12-09T08:47:58.474762",
     "exception": false,
     "start_time": "2020-12-09T08:47:58.359601",
     "status": "completed"
    },
    "tags": [],
    "cell_id": "00043-41d6d343-6e27-4842-bf8d-aaf03150ca51",
    "deepnote_cell_type": "code"
   },
   "source": "arr + 3",
   "execution_count": null,
   "outputs": [
    {
     "data": {
      "text/plain": "array([[4., 3., 3.],\n       [3., 4., 3.],\n       [3., 3., 4.]])"
     },
     "execution_count": 23,
     "metadata": {},
     "output_type": "execute_result"
    }
   ]
  },
  {
   "cell_type": "code",
   "metadata": {
    "_uuid": "41d5c393592aefa3380fa0434ea01a430a4e4eca",
    "execution": {
     "iopub.execute_input": "2020-12-09T08:47:58.692892Z",
     "iopub.status.busy": "2020-12-09T08:47:58.691815Z",
     "iopub.status.idle": "2020-12-09T08:47:58.696478Z",
     "shell.execute_reply": "2020-12-09T08:47:58.695893Z"
    },
    "papermill": {
     "duration": 0.115641,
     "end_time": "2020-12-09T08:47:58.696601",
     "exception": false,
     "start_time": "2020-12-09T08:47:58.580960",
     "status": "completed"
    },
    "tags": [],
    "cell_id": "00044-5352fbb0-3d20-45fb-89fd-5c667db638d6",
    "deepnote_cell_type": "code"
   },
   "source": "arr - 3",
   "execution_count": null,
   "outputs": [
    {
     "data": {
      "text/plain": "array([[-2., -3., -3.],\n       [-3., -2., -3.],\n       [-3., -3., -2.]])"
     },
     "execution_count": 24,
     "metadata": {},
     "output_type": "execute_result"
    }
   ]
  },
  {
   "cell_type": "code",
   "metadata": {
    "execution": {
     "iopub.execute_input": "2020-12-09T08:47:58.917309Z",
     "iopub.status.busy": "2020-12-09T08:47:58.916142Z",
     "iopub.status.idle": "2020-12-09T08:47:58.922727Z",
     "shell.execute_reply": "2020-12-09T08:47:58.921863Z"
    },
    "papermill": {
     "duration": 0.119761,
     "end_time": "2020-12-09T08:47:58.922906",
     "exception": false,
     "start_time": "2020-12-09T08:47:58.803145",
     "status": "completed"
    },
    "tags": [],
    "cell_id": "00045-acf2ccb6-f6bb-4e88-92b7-40057bb31b77",
    "deepnote_cell_type": "code"
   },
   "source": "arr * 3",
   "execution_count": null,
   "outputs": [
    {
     "data": {
      "text/plain": "array([[3., 0., 0.],\n       [0., 3., 0.],\n       [0., 0., 3.]])"
     },
     "execution_count": 25,
     "metadata": {},
     "output_type": "execute_result"
    }
   ]
  },
  {
   "cell_type": "code",
   "metadata": {
    "execution": {
     "iopub.execute_input": "2020-12-09T08:47:59.144869Z",
     "iopub.status.busy": "2020-12-09T08:47:59.144063Z",
     "iopub.status.idle": "2020-12-09T08:47:59.148066Z",
     "shell.execute_reply": "2020-12-09T08:47:59.147462Z"
    },
    "papermill": {
     "duration": 0.116632,
     "end_time": "2020-12-09T08:47:59.148195",
     "exception": false,
     "start_time": "2020-12-09T08:47:59.031563",
     "status": "completed"
    },
    "tags": [],
    "cell_id": "00046-170e427e-6c3f-4565-84aa-b1bb15cff1df",
    "deepnote_cell_type": "code"
   },
   "source": "arr / 3",
   "execution_count": null,
   "outputs": [
    {
     "data": {
      "text/plain": "array([[0.33333333, 0.        , 0.        ],\n       [0.        , 0.33333333, 0.        ],\n       [0.        , 0.        , 0.33333333]])"
     },
     "execution_count": 26,
     "metadata": {},
     "output_type": "execute_result"
    }
   ]
  },
  {
   "cell_type": "markdown",
   "source": "O incluso transponerlo:",
   "metadata": {
    "papermill": {
     "duration": 0.106826,
     "end_time": "2020-12-09T08:47:59.363383",
     "exception": false,
     "start_time": "2020-12-09T08:47:59.256557",
     "status": "completed"
    },
    "tags": [],
    "cell_id": "00047-56f57b7e-074b-4867-8860-0cc915ff500b",
    "deepnote_cell_type": "markdown"
   }
  },
  {
   "cell_type": "code",
   "metadata": {
    "_uuid": "a3915cb36716973e619bf20ee7fbed85d2711210",
    "execution": {
     "iopub.execute_input": "2020-12-09T08:47:59.584520Z",
     "iopub.status.busy": "2020-12-09T08:47:59.583452Z",
     "iopub.status.idle": "2020-12-09T08:47:59.587543Z",
     "shell.execute_reply": "2020-12-09T08:47:59.586885Z"
    },
    "papermill": {
     "duration": 0.116589,
     "end_time": "2020-12-09T08:47:59.587675",
     "exception": false,
     "start_time": "2020-12-09T08:47:59.471086",
     "status": "completed"
    },
    "tags": [],
    "cell_id": "00048-bfe647e7-3c95-4267-98bb-22af376f8623",
    "deepnote_cell_type": "code"
   },
   "source": "arr.T",
   "execution_count": null,
   "outputs": [
    {
     "data": {
      "text/plain": "array([[1., 0., 0.],\n       [0., 1., 0.],\n       [0., 0., 1.]])"
     },
     "execution_count": 27,
     "metadata": {},
     "output_type": "execute_result"
    }
   ]
  },
  {
   "cell_type": "markdown",
   "source": "#### *Slicing*\n\nLa operación de [*slicing*](https://numpy.org/doc/stable/reference/arrays.indexing.html) es sumamente importante en `NumPy`, puesto que permite acceder eficientemente a elementos consecutivos de un *array*.\n\nA continuación se muestra como acceder a la tercera columna:",
   "metadata": {
    "_uuid": "4946ad992bd0130311126aa245fdda2ae88bbe1b",
    "papermill": {
     "duration": 0.107425,
     "end_time": "2020-12-09T08:47:59.803128",
     "exception": false,
     "start_time": "2020-12-09T08:47:59.695703",
     "status": "completed"
    },
    "tags": [],
    "cell_id": "00049-b5fe8394-1e2f-4ca2-b00b-f01f84bfd278",
    "deepnote_cell_type": "markdown"
   }
  },
  {
   "cell_type": "code",
   "metadata": {
    "_uuid": "aef24fdf26adfc292708629fa0e406861fa691dd",
    "execution": {
     "iopub.execute_input": "2020-12-09T08:48:00.242677Z",
     "iopub.status.busy": "2020-12-09T08:48:00.241803Z",
     "iopub.status.idle": "2020-12-09T08:48:00.246183Z",
     "shell.execute_reply": "2020-12-09T08:48:00.245538Z"
    },
    "papermill": {
     "duration": 0.119283,
     "end_time": "2020-12-09T08:48:00.246304",
     "exception": false,
     "start_time": "2020-12-09T08:48:00.127021",
     "status": "completed"
    },
    "tags": [],
    "cell_id": "00050-1bb80ff9-4c63-44fb-a243-9f909f4ebb81",
    "deepnote_cell_type": "code"
   },
   "source": "arr[:, 2]",
   "execution_count": null,
   "outputs": [
    {
     "data": {
      "text/plain": "array([0., 0., 1.])"
     },
     "execution_count": 28,
     "metadata": {},
     "output_type": "execute_result"
    }
   ]
  },
  {
   "cell_type": "markdown",
   "source": "A la primera fila:",
   "metadata": {
    "papermill": {
     "duration": 0.110044,
     "end_time": "2020-12-09T08:48:00.465332",
     "exception": false,
     "start_time": "2020-12-09T08:48:00.355288",
     "status": "completed"
    },
    "tags": [],
    "cell_id": "00051-d41283b1-6a03-4204-81b3-6e8626fd2633",
    "deepnote_cell_type": "markdown"
   }
  },
  {
   "cell_type": "code",
   "metadata": {
    "execution": {
     "iopub.execute_input": "2020-12-09T08:48:00.688439Z",
     "iopub.status.busy": "2020-12-09T08:48:00.687480Z",
     "iopub.status.idle": "2020-12-09T08:48:00.691956Z",
     "shell.execute_reply": "2020-12-09T08:48:00.691225Z"
    },
    "papermill": {
     "duration": 0.117886,
     "end_time": "2020-12-09T08:48:00.692075",
     "exception": false,
     "start_time": "2020-12-09T08:48:00.574189",
     "status": "completed"
    },
    "tags": [],
    "cell_id": "00052-88c2567a-ceff-437e-a370-4887f2750e67",
    "deepnote_cell_type": "code"
   },
   "source": "arr[0, :]",
   "execution_count": null,
   "outputs": [
    {
     "data": {
      "text/plain": "array([1., 0., 0.])"
     },
     "execution_count": 29,
     "metadata": {},
     "output_type": "execute_result"
    }
   ]
  },
  {
   "cell_type": "markdown",
   "source": "O incluso a las dos primeras filas y columnas:",
   "metadata": {
    "papermill": {
     "duration": 0.110417,
     "end_time": "2020-12-09T08:48:00.912595",
     "exception": false,
     "start_time": "2020-12-09T08:48:00.802178",
     "status": "completed"
    },
    "tags": [],
    "cell_id": "00053-41f58e85-2f4b-4962-9387-7d3485848399",
    "deepnote_cell_type": "markdown"
   }
  },
  {
   "cell_type": "code",
   "metadata": {
    "execution": {
     "iopub.execute_input": "2020-12-09T08:48:01.138276Z",
     "iopub.status.busy": "2020-12-09T08:48:01.137355Z",
     "iopub.status.idle": "2020-12-09T08:48:01.141201Z",
     "shell.execute_reply": "2020-12-09T08:48:01.141731Z"
    },
    "papermill": {
     "duration": 0.119437,
     "end_time": "2020-12-09T08:48:01.141910",
     "exception": false,
     "start_time": "2020-12-09T08:48:01.022473",
     "status": "completed"
    },
    "tags": [],
    "cell_id": "00054-25fae8bf-0806-425e-bd78-f2d227739ab2",
    "deepnote_cell_type": "code"
   },
   "source": "arr[:2, :2]",
   "execution_count": null,
   "outputs": [
    {
     "data": {
      "text/plain": "array([[1., 0.],\n       [0., 1.]])"
     },
     "execution_count": 30,
     "metadata": {},
     "output_type": "execute_result"
    }
   ]
  },
  {
   "cell_type": "markdown",
   "source": "### 2.2. `Pandas`\n\n`Pandas` es la librería de tratamiento de datos estructurados que utilizaremos durante las prácticas. En este caso, solo veremos su funcionalidad más básica, pero para todos aquellos que quieran profundizar se puede seguir este [tutorial](http://pandas.pydata.org/pandas-docs/stable/10min.html).",
   "metadata": {
    "papermill": {
     "duration": 0.109386,
     "end_time": "2020-12-09T08:48:01.361273",
     "exception": false,
     "start_time": "2020-12-09T08:48:01.251887",
     "status": "completed"
    },
    "tags": [],
    "cell_id": "00055-a7f8ec34-99f1-421a-af42-3b84ab4b7276",
    "deepnote_cell_type": "markdown"
   }
  },
  {
   "cell_type": "markdown",
   "source": "#### Creación de datos\n\nNormalmente, trabajaremos con conjuntos de datos que han sido obtenidos de experimentos (bien reales o sintéticos). Sin embargo, para aprender su funcionalidad, utilizaremos datos artificiales que generaremos de manera aleatoria.\n\nLa estructura de datos más importante de `Pandas` es el `DataFrame` (aunque existen otras como `Series`), que puede entenderse como una tabla de datos, donde las columnas representan variables y las filas casos concretos.\n\nA continuación vamos a ver un ejemplo de cómo podemos crear, de manera muy sencilla, un `DataFrame` de variables numéricas y discretas con casos aleatorios. Para ello, vamos a utilizar algunos de los generadores aleatorios de `NumPy` y los diccionarios de `Python`.\n\n---\n\n**Lectura recomendada**: Al tratarse el `DataFrame` de la estructura de datos por excelencia utilizada para cargar y almacenar conjuntos de datos, se recomienda estudiar su [documentación](https://pandas.pydata.org/pandas-docs/stable/reference/api/pandas.DataFrame.html).\n\n---",
   "metadata": {
    "_uuid": "d728b5b2714cb94b930e9c727f44a33505b63b07",
    "papermill": {
     "duration": 0.109358,
     "end_time": "2020-12-09T08:48:01.800171",
     "exception": false,
     "start_time": "2020-12-09T08:48:01.690813",
     "status": "completed"
    },
    "tags": [],
    "cell_id": "00056-d9285a18-ed07-43d8-9dba-25d3f9a48a68",
    "deepnote_cell_type": "markdown"
   }
  },
  {
   "cell_type": "markdown",
   "source": "Pero antes de ello, vamos a inicializar el generador de números aleatorios para garantizar la reproducibilidad de los experimentos:",
   "metadata": {
    "cell_id": "00057-e452bacb-6d9b-4960-9fff-a58f4eb623d1",
    "deepnote_cell_type": "markdown"
   }
  },
  {
   "cell_type": "code",
   "metadata": {
    "cell_id": "00058-bf199b8e-a76e-43f4-bd47-9cbb107f1f8a",
    "deepnote_cell_type": "code"
   },
   "source": "np.random.seed(seed)",
   "execution_count": null,
   "outputs": []
  },
  {
   "cell_type": "markdown",
   "source": "Tras esto, podemos crear las variables aleatorias:",
   "metadata": {
    "cell_id": "00059-81a3cf81-3d46-4feb-987d-4a0edc4a80f3",
    "deepnote_cell_type": "markdown"
   }
  },
  {
   "cell_type": "markdown",
   "source": "* Distribución uniforme (`uniform`):",
   "metadata": {
    "cell_id": "00060-2db509f5-ab28-4caf-9318-3311322b753b",
    "deepnote_cell_type": "markdown"
   }
  },
  {
   "cell_type": "code",
   "metadata": {
    "cell_id": "00061-1a1001ce-5104-47c9-acd7-a28b398827c9",
    "deepnote_cell_type": "code"
   },
   "source": "size = 1000",
   "execution_count": null,
   "outputs": []
  },
  {
   "cell_type": "code",
   "metadata": {
    "cell_id": "00062-f59bb397-15bb-4253-b71e-fca36b0fa7a1",
    "deepnote_cell_type": "code"
   },
   "source": "uniform = np.random.uniform(size=size)",
   "execution_count": null,
   "outputs": []
  },
  {
   "cell_type": "markdown",
   "source": "* Distribución normal (`normal`):",
   "metadata": {
    "cell_id": "00063-f6212493-9e42-40e6-b3ce-e669b2d26d7a",
    "deepnote_cell_type": "markdown"
   }
  },
  {
   "cell_type": "code",
   "metadata": {
    "cell_id": "00064-b166eb9a-8d6c-4aa1-a602-46aeb2f40f2d",
    "deepnote_cell_type": "code"
   },
   "source": "normal = np.random.normal(size=size)",
   "execution_count": null,
   "outputs": []
  },
  {
   "cell_type": "markdown",
   "source": "* Distribución discreta (`discrete`):",
   "metadata": {
    "cell_id": "00065-65f26b4f-61b5-4d01-87c8-910fa4522205",
    "deepnote_cell_type": "markdown"
   }
  },
  {
   "cell_type": "code",
   "metadata": {
    "cell_id": "00066-a17f291e-fbb3-4201-a6fc-61b5658ea715",
    "deepnote_cell_type": "code"
   },
   "source": "days = [\"monday\", \"tuesday\", \"friday\"]",
   "execution_count": null,
   "outputs": []
  },
  {
   "cell_type": "code",
   "metadata": {
    "cell_id": "00067-709374be-b8a8-4122-a4a2-2b9801c83c4e",
    "deepnote_cell_type": "code"
   },
   "source": "discrete = np.random.choice(days, size=size)",
   "execution_count": null,
   "outputs": []
  },
  {
   "cell_type": "markdown",
   "source": "Y juntarlas en el `DataFrame` correspondiente:",
   "metadata": {
    "cell_id": "00068-df62c68c-4d90-4511-9c81-88010ce19df4",
    "deepnote_cell_type": "markdown"
   }
  },
  {
   "cell_type": "code",
   "metadata": {
    "cell_id": "00069-4e17dec8-a28d-4b3c-be43-581bec8a47b7",
    "deepnote_cell_type": "code"
   },
   "source": "import pandas as pd",
   "execution_count": null,
   "outputs": []
  },
  {
   "cell_type": "code",
   "metadata": {
    "execution": {
     "iopub.execute_input": "2020-12-09T08:48:02.505163Z",
     "iopub.status.busy": "2020-12-09T08:48:02.504397Z",
     "iopub.status.idle": "2020-12-09T08:48:02.507491Z",
     "shell.execute_reply": "2020-12-09T08:48:02.506779Z"
    },
    "papermill": {
     "duration": 0.119775,
     "end_time": "2020-12-09T08:48:02.507604",
     "exception": false,
     "start_time": "2020-12-09T08:48:02.387829",
     "status": "completed"
    },
    "tags": [],
    "cell_id": "00070-f5818c40-4292-4fa7-9a78-c7c9727829cc",
    "deepnote_cell_type": "code"
   },
   "source": "data = {\"uniform\": uniform, \"normal\": normal, \"discrete\": discrete}",
   "execution_count": null,
   "outputs": []
  },
  {
   "cell_type": "code",
   "metadata": {
    "cell_id": "00071-3fce1c6a-8a3b-4d46-990d-302748a14b0a",
    "deepnote_cell_type": "code"
   },
   "source": "df = pd.DataFrame(data)",
   "execution_count": null,
   "outputs": []
  },
  {
   "cell_type": "code",
   "metadata": {
    "execution": {
     "iopub.execute_input": "2020-12-09T08:48:02.750769Z",
     "iopub.status.busy": "2020-12-09T08:48:02.750024Z",
     "iopub.status.idle": "2020-12-09T08:48:02.759550Z",
     "shell.execute_reply": "2020-12-09T08:48:02.758802Z"
    },
    "papermill": {
     "duration": 0.137707,
     "end_time": "2020-12-09T08:48:02.759669",
     "exception": false,
     "start_time": "2020-12-09T08:48:02.621962",
     "status": "completed"
    },
    "tags": [],
    "cell_id": "00072-f056a4f2-12e6-4c96-bbce-f713b084e19d",
    "deepnote_cell_type": "code"
   },
   "source": "df",
   "execution_count": null,
   "outputs": [
    {
     "data": {
      "text/html": "<div>\n<style scoped>\n    .dataframe tbody tr th:only-of-type {\n        vertical-align: middle;\n    }\n\n    .dataframe tbody tr th {\n        vertical-align: top;\n    }\n\n    .dataframe thead th {\n        text-align: right;\n    }\n</style>\n<table border=\"1\" class=\"dataframe\">\n  <thead>\n    <tr style=\"text-align: right;\">\n      <th></th>\n      <th>uniform</th>\n      <th>normal</th>\n      <th>discrete</th>\n    </tr>\n  </thead>\n  <tbody>\n    <tr>\n      <th>0</th>\n      <td>0.297776</td>\n      <td>-0.073827</td>\n      <td>monday</td>\n    </tr>\n    <tr>\n      <th>1</th>\n      <td>0.914609</td>\n      <td>-1.595461</td>\n      <td>monday</td>\n    </tr>\n    <tr>\n      <th>2</th>\n      <td>0.092395</td>\n      <td>0.252506</td>\n      <td>tuesday</td>\n    </tr>\n    <tr>\n      <th>3</th>\n      <td>0.840928</td>\n      <td>0.780471</td>\n      <td>tuesday</td>\n    </tr>\n    <tr>\n      <th>4</th>\n      <td>0.753250</td>\n      <td>-0.418519</td>\n      <td>monday</td>\n    </tr>\n    <tr>\n      <th>...</th>\n      <td>...</td>\n      <td>...</td>\n      <td>...</td>\n    </tr>\n    <tr>\n      <th>995</th>\n      <td>0.262760</td>\n      <td>-0.095582</td>\n      <td>friday</td>\n    </tr>\n    <tr>\n      <th>996</th>\n      <td>0.146250</td>\n      <td>-0.395295</td>\n      <td>friday</td>\n    </tr>\n    <tr>\n      <th>997</th>\n      <td>0.367978</td>\n      <td>0.745103</td>\n      <td>monday</td>\n    </tr>\n    <tr>\n      <th>998</th>\n      <td>0.973925</td>\n      <td>1.197313</td>\n      <td>monday</td>\n    </tr>\n    <tr>\n      <th>999</th>\n      <td>0.242217</td>\n      <td>1.912867</td>\n      <td>monday</td>\n    </tr>\n  </tbody>\n</table>\n<p>1000 rows × 3 columns</p>\n</div>",
      "text/plain": "      uniform    normal discrete\n0    0.297776 -0.073827   monday\n1    0.914609 -1.595461   monday\n2    0.092395  0.252506  tuesday\n3    0.840928  0.780471  tuesday\n4    0.753250 -0.418519   monday\n..        ...       ...      ...\n995  0.262760 -0.095582   friday\n996  0.146250 -0.395295   friday\n997  0.367978  0.745103   monday\n998  0.973925  1.197313   monday\n999  0.242217  1.912867   monday\n\n[1000 rows x 3 columns]"
     },
     "execution_count": 40,
     "metadata": {},
     "output_type": "execute_result"
    }
   ]
  },
  {
   "cell_type": "markdown",
   "source": "Obsérvese que `Jupyter` solo renderiza las primeras y últimas filas del `DataFrame` para que podamos ver los datos con mayor comodidad. Para una mejor visualización, se recomienda mostrar únicamente algunas.\n\nPodemos mostrar las `n` primeros filas:",
   "metadata": {
    "_uuid": "97d2618ea7fa5dab6f1f549f675db84fa3d5f4a9",
    "papermill": {
     "duration": 0.113665,
     "end_time": "2020-12-09T08:48:02.986820",
     "exception": false,
     "start_time": "2020-12-09T08:48:02.873155",
     "status": "completed"
    },
    "tags": [],
    "cell_id": "00073-ec549e0d-8886-4b6d-82de-8001be9c7639",
    "deepnote_cell_type": "markdown"
   }
  },
  {
   "cell_type": "code",
   "metadata": {
    "_uuid": "b3fcba0126ce10ae3b9ee70a750f2950aa9c3136",
    "execution": {
     "iopub.execute_input": "2020-12-09T08:48:03.443450Z",
     "iopub.status.busy": "2020-12-09T08:48:03.442602Z",
     "iopub.status.idle": "2020-12-09T08:48:03.447597Z",
     "shell.execute_reply": "2020-12-09T08:48:03.446884Z"
    },
    "papermill": {
     "duration": 0.126521,
     "end_time": "2020-12-09T08:48:03.447718",
     "exception": false,
     "start_time": "2020-12-09T08:48:03.321197",
     "status": "completed"
    },
    "scrolled": false,
    "tags": [],
    "cell_id": "00074-2ae170d5-ec01-47a3-bb81-de111e31ac43",
    "deepnote_cell_type": "code"
   },
   "source": "df.head(5)",
   "execution_count": null,
   "outputs": [
    {
     "data": {
      "text/html": "<div>\n<style scoped>\n    .dataframe tbody tr th:only-of-type {\n        vertical-align: middle;\n    }\n\n    .dataframe tbody tr th {\n        vertical-align: top;\n    }\n\n    .dataframe thead th {\n        text-align: right;\n    }\n</style>\n<table border=\"1\" class=\"dataframe\">\n  <thead>\n    <tr style=\"text-align: right;\">\n      <th></th>\n      <th>uniform</th>\n      <th>normal</th>\n      <th>discrete</th>\n    </tr>\n  </thead>\n  <tbody>\n    <tr>\n      <th>0</th>\n      <td>0.297776</td>\n      <td>-0.073827</td>\n      <td>monday</td>\n    </tr>\n    <tr>\n      <th>1</th>\n      <td>0.914609</td>\n      <td>-1.595461</td>\n      <td>monday</td>\n    </tr>\n    <tr>\n      <th>2</th>\n      <td>0.092395</td>\n      <td>0.252506</td>\n      <td>tuesday</td>\n    </tr>\n    <tr>\n      <th>3</th>\n      <td>0.840928</td>\n      <td>0.780471</td>\n      <td>tuesday</td>\n    </tr>\n    <tr>\n      <th>4</th>\n      <td>0.753250</td>\n      <td>-0.418519</td>\n      <td>monday</td>\n    </tr>\n  </tbody>\n</table>\n</div>",
      "text/plain": "    uniform    normal discrete\n0  0.297776 -0.073827   monday\n1  0.914609 -1.595461   monday\n2  0.092395  0.252506  tuesday\n3  0.840928  0.780471  tuesday\n4  0.753250 -0.418519   monday"
     },
     "execution_count": 41,
     "metadata": {},
     "output_type": "execute_result"
    }
   ]
  },
  {
   "cell_type": "markdown",
   "source": "O `n` aleatorias:",
   "metadata": {
    "papermill": {
     "duration": 0.111632,
     "end_time": "2020-12-09T08:48:03.671368",
     "exception": false,
     "start_time": "2020-12-09T08:48:03.559736",
     "status": "completed"
    },
    "tags": [],
    "cell_id": "00075-fb42a0bb-9fb0-4fe4-ab25-770183649fee",
    "deepnote_cell_type": "markdown"
   }
  },
  {
   "cell_type": "code",
   "metadata": {
    "execution": {
     "iopub.execute_input": "2020-12-09T08:48:03.911190Z",
     "iopub.status.busy": "2020-12-09T08:48:03.907703Z",
     "iopub.status.idle": "2020-12-09T08:48:03.915973Z",
     "shell.execute_reply": "2020-12-09T08:48:03.915387Z"
    },
    "papermill": {
     "duration": 0.133166,
     "end_time": "2020-12-09T08:48:03.916102",
     "exception": false,
     "start_time": "2020-12-09T08:48:03.782936",
     "status": "completed"
    },
    "tags": [],
    "cell_id": "00076-aaae4292-17f5-4d3a-b404-170a6f186f20",
    "deepnote_cell_type": "code"
   },
   "source": "df.sample(5, random_state=random_state)",
   "execution_count": null,
   "outputs": [
    {
     "data": {
      "text/html": "<div>\n<style scoped>\n    .dataframe tbody tr th:only-of-type {\n        vertical-align: middle;\n    }\n\n    .dataframe tbody tr th {\n        vertical-align: top;\n    }\n\n    .dataframe thead th {\n        text-align: right;\n    }\n</style>\n<table border=\"1\" class=\"dataframe\">\n  <thead>\n    <tr style=\"text-align: right;\">\n      <th></th>\n      <th>uniform</th>\n      <th>normal</th>\n      <th>discrete</th>\n    </tr>\n  </thead>\n  <tbody>\n    <tr>\n      <th>144</th>\n      <td>0.662123</td>\n      <td>-1.505567</td>\n      <td>tuesday</td>\n    </tr>\n    <tr>\n      <th>663</th>\n      <td>0.683784</td>\n      <td>-0.961739</td>\n      <td>friday</td>\n    </tr>\n    <tr>\n      <th>952</th>\n      <td>0.979697</td>\n      <td>0.049457</td>\n      <td>friday</td>\n    </tr>\n    <tr>\n      <th>977</th>\n      <td>0.463871</td>\n      <td>-0.568788</td>\n      <td>tuesday</td>\n    </tr>\n    <tr>\n      <th>301</th>\n      <td>0.971773</td>\n      <td>-0.255816</td>\n      <td>friday</td>\n    </tr>\n  </tbody>\n</table>\n</div>",
      "text/plain": "      uniform    normal discrete\n144  0.662123 -1.505567  tuesday\n663  0.683784 -0.961739   friday\n952  0.979697  0.049457   friday\n977  0.463871 -0.568788  tuesday\n301  0.971773 -0.255816   friday"
     },
     "execution_count": 42,
     "metadata": {},
     "output_type": "execute_result"
    }
   ]
  },
  {
   "cell_type": "markdown",
   "source": "También podemos obtener un resumen de las variables numéricas del conjunto de datos:",
   "metadata": {
    "papermill": {
     "duration": 0.113513,
     "end_time": "2020-12-09T08:48:04.143678",
     "exception": false,
     "start_time": "2020-12-09T08:48:04.030165",
     "status": "completed"
    },
    "tags": [],
    "cell_id": "00077-36041d49-5071-49f8-a133-d36d523af586",
    "deepnote_cell_type": "markdown"
   }
  },
  {
   "cell_type": "code",
   "metadata": {
    "execution": {
     "iopub.execute_input": "2020-12-09T08:48:04.379566Z",
     "iopub.status.busy": "2020-12-09T08:48:04.378757Z",
     "iopub.status.idle": "2020-12-09T08:48:04.395224Z",
     "shell.execute_reply": "2020-12-09T08:48:04.394465Z"
    },
    "papermill": {
     "duration": 0.1377,
     "end_time": "2020-12-09T08:48:04.395351",
     "exception": false,
     "start_time": "2020-12-09T08:48:04.257651",
     "status": "completed"
    },
    "tags": [],
    "cell_id": "00078-fbe5f0e2-5f33-407f-92b7-7d0dfc56af4a",
    "deepnote_cell_type": "code"
   },
   "source": "df.describe(include=\"number\")",
   "execution_count": null,
   "outputs": [
    {
     "data": {
      "text/html": "<div>\n<style scoped>\n    .dataframe tbody tr th:only-of-type {\n        vertical-align: middle;\n    }\n\n    .dataframe tbody tr th {\n        vertical-align: top;\n    }\n\n    .dataframe thead th {\n        text-align: right;\n    }\n</style>\n<table border=\"1\" class=\"dataframe\">\n  <thead>\n    <tr style=\"text-align: right;\">\n      <th></th>\n      <th>uniform</th>\n      <th>normal</th>\n    </tr>\n  </thead>\n  <tbody>\n    <tr>\n      <th>count</th>\n      <td>1000.000000</td>\n      <td>1000.000000</td>\n    </tr>\n    <tr>\n      <th>mean</th>\n      <td>0.496500</td>\n      <td>-0.015685</td>\n    </tr>\n    <tr>\n      <th>std</th>\n      <td>0.284890</td>\n      <td>1.028174</td>\n    </tr>\n    <tr>\n      <th>min</th>\n      <td>0.000672</td>\n      <td>-3.185296</td>\n    </tr>\n    <tr>\n      <th>25%</th>\n      <td>0.252771</td>\n      <td>-0.782922</td>\n    </tr>\n    <tr>\n      <th>50%</th>\n      <td>0.505453</td>\n      <td>0.036296</td>\n    </tr>\n    <tr>\n      <th>75%</th>\n      <td>0.728137</td>\n      <td>0.688196</td>\n    </tr>\n    <tr>\n      <th>max</th>\n      <td>0.999262</td>\n      <td>3.309652</td>\n    </tr>\n  </tbody>\n</table>\n</div>",
      "text/plain": "           uniform       normal\ncount  1000.000000  1000.000000\nmean      0.496500    -0.015685\nstd       0.284890     1.028174\nmin       0.000672    -3.185296\n25%       0.252771    -0.782922\n50%       0.505453     0.036296\n75%       0.728137     0.688196\nmax       0.999262     3.309652"
     },
     "execution_count": 43,
     "metadata": {},
     "output_type": "execute_result"
    }
   ]
  },
  {
   "cell_type": "markdown",
   "source": "Y de las discretas:",
   "metadata": {
    "papermill": {
     "duration": 0.11415,
     "end_time": "2020-12-09T08:48:04.624455",
     "exception": false,
     "start_time": "2020-12-09T08:48:04.510305",
     "status": "completed"
    },
    "tags": [],
    "cell_id": "00079-6d92a330-e000-425e-a9d2-7f4f4d3870ea",
    "deepnote_cell_type": "markdown"
   }
  },
  {
   "cell_type": "code",
   "metadata": {
    "execution": {
     "iopub.execute_input": "2020-12-09T08:48:04.860904Z",
     "iopub.status.busy": "2020-12-09T08:48:04.860173Z",
     "iopub.status.idle": "2020-12-09T08:48:04.887635Z",
     "shell.execute_reply": "2020-12-09T08:48:04.886918Z"
    },
    "papermill": {
     "duration": 0.149574,
     "end_time": "2020-12-09T08:48:04.887753",
     "exception": false,
     "start_time": "2020-12-09T08:48:04.738179",
     "status": "completed"
    },
    "tags": [],
    "cell_id": "00080-a7606c0a-7cdd-495c-a618-f96b7a31bd2f",
    "deepnote_cell_type": "code"
   },
   "source": "df.describe(include=\"object\")",
   "execution_count": null,
   "outputs": [
    {
     "data": {
      "text/html": "<div>\n<style scoped>\n    .dataframe tbody tr th:only-of-type {\n        vertical-align: middle;\n    }\n\n    .dataframe tbody tr th {\n        vertical-align: top;\n    }\n\n    .dataframe thead th {\n        text-align: right;\n    }\n</style>\n<table border=\"1\" class=\"dataframe\">\n  <thead>\n    <tr style=\"text-align: right;\">\n      <th></th>\n      <th>discrete</th>\n    </tr>\n  </thead>\n  <tbody>\n    <tr>\n      <th>count</th>\n      <td>1000</td>\n    </tr>\n    <tr>\n      <th>unique</th>\n      <td>3</td>\n    </tr>\n    <tr>\n      <th>top</th>\n      <td>monday</td>\n    </tr>\n    <tr>\n      <th>freq</th>\n      <td>342</td>\n    </tr>\n  </tbody>\n</table>\n</div>",
      "text/plain": "       discrete\ncount      1000\nunique        3\ntop      monday\nfreq        342"
     },
     "execution_count": 44,
     "metadata": {},
     "output_type": "execute_result"
    }
   ]
  },
  {
   "cell_type": "markdown",
   "source": "#### Indexado\n\nA lo largo del curso introduciremos diversas operaciones para procesar los datos de un `DataFrame`, y así prepararlos para los diferentes algoritmos. De momento, vamos a mostrar algunas operaciones básicas.\n\nPodemos obtener subconjuntos del `DataFrame` mediante operaciones más potentes, como indexado de filas:",
   "metadata": {
    "_uuid": "cf68916427a279ad9b068571c6c2d669c00b139f",
    "papermill": {
     "duration": 0.113678,
     "end_time": "2020-12-09T08:48:05.115385",
     "exception": false,
     "start_time": "2020-12-09T08:48:05.001707",
     "status": "completed"
    },
    "tags": [],
    "cell_id": "00081-635f2d17-2abc-45fd-a974-b4c85a148711",
    "deepnote_cell_type": "markdown"
   }
  },
  {
   "cell_type": "code",
   "metadata": {
    "_uuid": "8bdac213eb78f9445e248218edba090af4c1af96",
    "execution": {
     "iopub.execute_input": "2020-12-09T08:48:05.816978Z",
     "iopub.status.busy": "2020-12-09T08:48:05.816131Z",
     "iopub.status.idle": "2020-12-09T08:48:05.820880Z",
     "shell.execute_reply": "2020-12-09T08:48:05.820276Z"
    },
    "papermill": {
     "duration": 0.130417,
     "end_time": "2020-12-09T08:48:05.821006",
     "exception": false,
     "start_time": "2020-12-09T08:48:05.690589",
     "status": "completed"
    },
    "tags": [],
    "cell_id": "00082-2128b75a-d50b-4341-a203-41e9c8b98d51",
    "deepnote_cell_type": "code"
   },
   "source": "df.loc[0:5]",
   "execution_count": null,
   "outputs": [
    {
     "data": {
      "text/html": "<div>\n<style scoped>\n    .dataframe tbody tr th:only-of-type {\n        vertical-align: middle;\n    }\n\n    .dataframe tbody tr th {\n        vertical-align: top;\n    }\n\n    .dataframe thead th {\n        text-align: right;\n    }\n</style>\n<table border=\"1\" class=\"dataframe\">\n  <thead>\n    <tr style=\"text-align: right;\">\n      <th></th>\n      <th>uniform</th>\n      <th>normal</th>\n      <th>discrete</th>\n    </tr>\n  </thead>\n  <tbody>\n    <tr>\n      <th>0</th>\n      <td>0.297776</td>\n      <td>-0.073827</td>\n      <td>monday</td>\n    </tr>\n    <tr>\n      <th>1</th>\n      <td>0.914609</td>\n      <td>-1.595461</td>\n      <td>monday</td>\n    </tr>\n    <tr>\n      <th>2</th>\n      <td>0.092395</td>\n      <td>0.252506</td>\n      <td>tuesday</td>\n    </tr>\n    <tr>\n      <th>3</th>\n      <td>0.840928</td>\n      <td>0.780471</td>\n      <td>tuesday</td>\n    </tr>\n    <tr>\n      <th>4</th>\n      <td>0.753250</td>\n      <td>-0.418519</td>\n      <td>monday</td>\n    </tr>\n    <tr>\n      <th>5</th>\n      <td>0.540231</td>\n      <td>0.371267</td>\n      <td>friday</td>\n    </tr>\n  </tbody>\n</table>\n</div>",
      "text/plain": "    uniform    normal discrete\n0  0.297776 -0.073827   monday\n1  0.914609 -1.595461   monday\n2  0.092395  0.252506  tuesday\n3  0.840928  0.780471  tuesday\n4  0.753250 -0.418519   monday\n5  0.540231  0.371267   friday"
     },
     "execution_count": 52,
     "metadata": {},
     "output_type": "execute_result"
    }
   ]
  },
  {
   "cell_type": "markdown",
   "source": "O de filas y columnas:",
   "metadata": {
    "papermill": {
     "duration": 0.11502,
     "end_time": "2020-12-09T08:48:06.052405",
     "exception": false,
     "start_time": "2020-12-09T08:48:05.937385",
     "status": "completed"
    },
    "tags": [],
    "cell_id": "00083-99611fa4-62c5-4cc3-8a6b-7820ce9a6ae9",
    "deepnote_cell_type": "markdown"
   }
  },
  {
   "cell_type": "code",
   "metadata": {
    "cell_id": "00084-2df1da43-155d-4e81-8205-9d52c110494e",
    "deepnote_cell_type": "code"
   },
   "source": "columns = [\"uniform\", \"normal\"]",
   "execution_count": null,
   "outputs": []
  },
  {
   "cell_type": "code",
   "metadata": {
    "_uuid": "162842b7466ff1e8cb30503bf41487b64267fee9",
    "execution": {
     "iopub.execute_input": "2020-12-09T08:48:06.295593Z",
     "iopub.status.busy": "2020-12-09T08:48:06.294504Z",
     "iopub.status.idle": "2020-12-09T08:48:06.298741Z",
     "shell.execute_reply": "2020-12-09T08:48:06.298067Z"
    },
    "papermill": {
     "duration": 0.130773,
     "end_time": "2020-12-09T08:48:06.298874",
     "exception": false,
     "start_time": "2020-12-09T08:48:06.168101",
     "status": "completed"
    },
    "tags": [],
    "cell_id": "00085-710e0066-8fb4-44e4-a108-8b90171c66b2",
    "deepnote_cell_type": "code"
   },
   "source": "df.loc[0:5, columns]",
   "execution_count": null,
   "outputs": [
    {
     "data": {
      "text/html": "<div>\n<style scoped>\n    .dataframe tbody tr th:only-of-type {\n        vertical-align: middle;\n    }\n\n    .dataframe tbody tr th {\n        vertical-align: top;\n    }\n\n    .dataframe thead th {\n        text-align: right;\n    }\n</style>\n<table border=\"1\" class=\"dataframe\">\n  <thead>\n    <tr style=\"text-align: right;\">\n      <th></th>\n      <th>uniform</th>\n      <th>normal</th>\n    </tr>\n  </thead>\n  <tbody>\n    <tr>\n      <th>0</th>\n      <td>0.297776</td>\n      <td>-0.073827</td>\n    </tr>\n    <tr>\n      <th>1</th>\n      <td>0.914609</td>\n      <td>-1.595461</td>\n    </tr>\n    <tr>\n      <th>2</th>\n      <td>0.092395</td>\n      <td>0.252506</td>\n    </tr>\n    <tr>\n      <th>3</th>\n      <td>0.840928</td>\n      <td>0.780471</td>\n    </tr>\n    <tr>\n      <th>4</th>\n      <td>0.753250</td>\n      <td>-0.418519</td>\n    </tr>\n    <tr>\n      <th>5</th>\n      <td>0.540231</td>\n      <td>0.371267</td>\n    </tr>\n  </tbody>\n</table>\n</div>",
      "text/plain": "    uniform    normal\n0  0.297776 -0.073827\n1  0.914609 -1.595461\n2  0.092395  0.252506\n3  0.840928  0.780471\n4  0.753250 -0.418519\n5  0.540231  0.371267"
     },
     "execution_count": 59,
     "metadata": {},
     "output_type": "execute_result"
    }
   ]
  },
  {
   "cell_type": "markdown",
   "source": "De hecho, se puede realizar un indexado de filas basado en condiciones, equivalente al utilizado en `NumPy`:",
   "metadata": {
    "papermill": {
     "duration": 0.115663,
     "end_time": "2020-12-09T08:48:06.530749",
     "exception": false,
     "start_time": "2020-12-09T08:48:06.415086",
     "status": "completed"
    },
    "tags": [],
    "cell_id": "00086-03a6230b-83f6-4f95-b941-414a214906c1",
    "deepnote_cell_type": "markdown"
   }
  },
  {
   "cell_type": "code",
   "metadata": {
    "cell_id": "00087-c212fbd0-48c2-4437-afa6-45e503349f55",
    "deepnote_cell_type": "code"
   },
   "source": "condition = df.discrete == \"monday\"",
   "execution_count": null,
   "outputs": []
  },
  {
   "cell_type": "code",
   "metadata": {
    "_uuid": "c993bfcea73ee25cb2680f7dfd2d304367675a4e",
    "execution": {
     "iopub.execute_input": "2020-12-09T08:48:06.776681Z",
     "iopub.status.busy": "2020-12-09T08:48:06.775815Z",
     "iopub.status.idle": "2020-12-09T08:48:06.779316Z",
     "shell.execute_reply": "2020-12-09T08:48:06.779932Z"
    },
    "papermill": {
     "duration": 0.133167,
     "end_time": "2020-12-09T08:48:06.780082",
     "exception": false,
     "start_time": "2020-12-09T08:48:06.646915",
     "status": "completed"
    },
    "tags": [],
    "cell_id": "00088-9efe795a-44c6-4737-81a4-7cee9340e895",
    "deepnote_cell_type": "code"
   },
   "source": "df.loc[condition].head(5)",
   "execution_count": null,
   "outputs": [
    {
     "data": {
      "text/html": "<div>\n<style scoped>\n    .dataframe tbody tr th:only-of-type {\n        vertical-align: middle;\n    }\n\n    .dataframe tbody tr th {\n        vertical-align: top;\n    }\n\n    .dataframe thead th {\n        text-align: right;\n    }\n</style>\n<table border=\"1\" class=\"dataframe\">\n  <thead>\n    <tr style=\"text-align: right;\">\n      <th></th>\n      <th>uniform</th>\n      <th>normal</th>\n      <th>discrete</th>\n    </tr>\n  </thead>\n  <tbody>\n    <tr>\n      <th>0</th>\n      <td>0.297776</td>\n      <td>-0.073827</td>\n      <td>monday</td>\n    </tr>\n    <tr>\n      <th>1</th>\n      <td>0.914609</td>\n      <td>-1.595461</td>\n      <td>monday</td>\n    </tr>\n    <tr>\n      <th>4</th>\n      <td>0.753250</td>\n      <td>-0.418519</td>\n      <td>monday</td>\n    </tr>\n    <tr>\n      <th>8</th>\n      <td>0.033818</td>\n      <td>0.664769</td>\n      <td>monday</td>\n    </tr>\n    <tr>\n      <th>15</th>\n      <td>0.982826</td>\n      <td>1.619302</td>\n      <td>monday</td>\n    </tr>\n  </tbody>\n</table>\n</div>",
      "text/plain": "     uniform    normal discrete\n0   0.297776 -0.073827   monday\n1   0.914609 -1.595461   monday\n4   0.753250 -0.418519   monday\n8   0.033818  0.664769   monday\n15  0.982826  1.619302   monday"
     },
     "execution_count": 63,
     "metadata": {},
     "output_type": "execute_result"
    }
   ]
  },
  {
   "cell_type": "markdown",
   "source": "#### Operaciones\n\nPodemos efectuar distintas operaciones sobre los datos, siendo las más importantes la obtención de estadísticos como la media:",
   "metadata": {
    "_uuid": "db929fce9e78243c3ae6f3168369886b13006b0a",
    "papermill": {
     "duration": 0.117711,
     "end_time": "2020-12-09T08:48:07.015072",
     "exception": false,
     "start_time": "2020-12-09T08:48:06.897361",
     "status": "completed"
    },
    "tags": [],
    "cell_id": "00089-9c721852-f15e-4bd0-baf0-41721d045df5",
    "deepnote_cell_type": "markdown"
   }
  },
  {
   "cell_type": "code",
   "metadata": {
    "_uuid": "7904d379911a9512370ae2d14590a4b7e2e2fcb5",
    "execution": {
     "iopub.execute_input": "2020-12-09T08:48:07.488273Z",
     "iopub.status.busy": "2020-12-09T08:48:07.487225Z",
     "iopub.status.idle": "2020-12-09T08:48:07.497142Z",
     "shell.execute_reply": "2020-12-09T08:48:07.496413Z"
    },
    "papermill": {
     "duration": 0.131821,
     "end_time": "2020-12-09T08:48:07.497269",
     "exception": false,
     "start_time": "2020-12-09T08:48:07.365448",
     "status": "completed"
    },
    "tags": [],
    "cell_id": "00090-43e20e14-7918-445b-ae5e-373f29a2ac45",
    "deepnote_cell_type": "code"
   },
   "source": "np.mean(df)",
   "execution_count": null,
   "outputs": [
    {
     "data": {
      "text/plain": "uniform    0.496500\nnormal    -0.015685\ndtype: float64"
     },
     "execution_count": 49,
     "metadata": {},
     "output_type": "execute_result"
    }
   ]
  },
  {
   "cell_type": "markdown",
   "source": "O la desviación estándar:",
   "metadata": {
    "papermill": {
     "duration": 0.117532,
     "end_time": "2020-12-09T08:48:07.732667",
     "exception": false,
     "start_time": "2020-12-09T08:48:07.615135",
     "status": "completed"
    },
    "tags": [],
    "cell_id": "00091-9d826716-ef19-4daf-9f87-332e3f2ad677",
    "deepnote_cell_type": "markdown"
   }
  },
  {
   "cell_type": "code",
   "metadata": {
    "_uuid": "c328e16e5a0617acfcc00635a4bf745437e57a59",
    "execution": {
     "iopub.execute_input": "2020-12-09T08:48:07.977285Z",
     "iopub.status.busy": "2020-12-09T08:48:07.976190Z",
     "iopub.status.idle": "2020-12-09T08:48:07.980513Z",
     "shell.execute_reply": "2020-12-09T08:48:07.981069Z"
    },
    "papermill": {
     "duration": 0.131654,
     "end_time": "2020-12-09T08:48:07.981233",
     "exception": false,
     "start_time": "2020-12-09T08:48:07.849579",
     "status": "completed"
    },
    "tags": [],
    "cell_id": "00092-83ababfa-e92d-4f60-b072-15b9647cc5e0",
    "deepnote_cell_type": "code"
   },
   "source": "np.std(df)",
   "execution_count": null,
   "outputs": [
    {
     "data": {
      "text/plain": "uniform    0.284747\nnormal     1.027660\ndtype: float64"
     },
     "execution_count": 50,
     "metadata": {},
     "output_type": "execute_result"
    }
   ]
  },
  {
   "cell_type": "markdown",
   "source": "Sin embargo, existen otras operaciones de gran interés como el reemplazo de valores:",
   "metadata": {
    "papermill": {
     "duration": 0.119028,
     "end_time": "2020-12-09T08:48:08.218386",
     "exception": false,
     "start_time": "2020-12-09T08:48:08.099358",
     "status": "completed"
    },
    "tags": [],
    "cell_id": "00093-d0db9ef9-85de-4020-9f30-3041646cd047",
    "deepnote_cell_type": "markdown"
   }
  },
  {
   "cell_type": "code",
   "metadata": {
    "_uuid": "95629070611627936e5d0ddcd4bd68997797f5c9",
    "execution": {
     "iopub.execute_input": "2020-12-09T08:48:08.468126Z",
     "iopub.status.busy": "2020-12-09T08:48:08.467191Z",
     "iopub.status.idle": "2020-12-09T08:48:08.472208Z",
     "shell.execute_reply": "2020-12-09T08:48:08.471546Z"
    },
    "papermill": {
     "duration": 0.135971,
     "end_time": "2020-12-09T08:48:08.472333",
     "exception": false,
     "start_time": "2020-12-09T08:48:08.336362",
     "status": "completed"
    },
    "tags": [],
    "cell_id": "00094-17750ed4-6007-446f-aba1-6209e9c08e23",
    "deepnote_cell_type": "code"
   },
   "source": "df.replace(to_replace=\"friday\", value=\"saturday\").sample(5, random_state=random_state)",
   "execution_count": null,
   "outputs": [
    {
     "data": {
      "text/html": "<div>\n<style scoped>\n    .dataframe tbody tr th:only-of-type {\n        vertical-align: middle;\n    }\n\n    .dataframe tbody tr th {\n        vertical-align: top;\n    }\n\n    .dataframe thead th {\n        text-align: right;\n    }\n</style>\n<table border=\"1\" class=\"dataframe\">\n  <thead>\n    <tr style=\"text-align: right;\">\n      <th></th>\n      <th>uniform</th>\n      <th>normal</th>\n      <th>discrete</th>\n    </tr>\n  </thead>\n  <tbody>\n    <tr>\n      <th>144</th>\n      <td>0.662123</td>\n      <td>-1.505567</td>\n      <td>tuesday</td>\n    </tr>\n    <tr>\n      <th>663</th>\n      <td>0.683784</td>\n      <td>-0.961739</td>\n      <td>saturday</td>\n    </tr>\n    <tr>\n      <th>952</th>\n      <td>0.979697</td>\n      <td>0.049457</td>\n      <td>saturday</td>\n    </tr>\n    <tr>\n      <th>977</th>\n      <td>0.463871</td>\n      <td>-0.568788</td>\n      <td>tuesday</td>\n    </tr>\n    <tr>\n      <th>301</th>\n      <td>0.971773</td>\n      <td>-0.255816</td>\n      <td>saturday</td>\n    </tr>\n  </tbody>\n</table>\n</div>",
      "text/plain": "      uniform    normal  discrete\n144  0.662123 -1.505567   tuesday\n663  0.683784 -0.961739  saturday\n952  0.979697  0.049457  saturday\n977  0.463871 -0.568788   tuesday\n301  0.971773 -0.255816  saturday"
     },
     "execution_count": 51,
     "metadata": {},
     "output_type": "execute_result"
    }
   ]
  },
  {
   "cell_type": "markdown",
   "source": "## 3. Ejercicios\n\nHemos realizado un repaso rápido por algunas de las funcionalidades que veremos a lo largo del curso. Es recomendable que los alumnos repasen de nuevo la libreta y se familiaricen con la sintaxis que acabamos de ver. Si bien no es necesario memorizar ni adquirir un nivel de experiencia demasiado alto con estas herramientas, sí es recomendable poder entender las operaciones a realizar con fluidez para evitar que estas sean un impedimento en futuras prácticas.\n\nPor ello, **y con carácter opcional**, se proponen los siguientes ejercicios.",
   "metadata": {
    "_uuid": "771f1cf070f9a600824e2935e9ec6a137fb3417f",
    "papermill": {
     "duration": 0.11823,
     "end_time": "2020-12-09T08:48:08.709470",
     "exception": false,
     "start_time": "2020-12-09T08:48:08.591240",
     "status": "completed"
    },
    "tags": [],
    "cell_id": "00095-c2fcdad7-5b82-436c-8b80-1738622b301c",
    "deepnote_cell_type": "markdown"
   }
  },
  {
   "cell_type": "markdown",
   "source": "### Ejercicio 1\n\nSe pide crear una lista de `Python` que contenga números impares del $ 1 $ al $ 5000000 $ (ambos inclusive) con tres funciones diferentes:\n\n* Lista de comprehensión\n* Programación funcional con `filter` y `lambda`\n* Bucle `for`\n\nCon el objetivo de llevar a cabo un estudio temporal y determinar cuál de dichas opciones es más eficiente.\n\nUna vez se ha implementado el código correspondiente y se ha verificado que el resultado proporcionado por cada una de las funciones es correcto, podemos llevar a cabo el estudio temporal. Para ello, se puede utilizar el [*comando mágico*](https://ipython.readthedocs.io/en/stable/interactive/magics.html) `timeit`.\n\nDe acuerdo a los resultados obtenidos, ¿Qué se puede concluir?",
   "metadata": {
    "papermill": {
     "duration": 0.118364,
     "end_time": "2020-12-09T08:48:09.187799",
     "exception": false,
     "start_time": "2020-12-09T08:48:09.069435",
     "status": "completed"
    },
    "tags": [],
    "cell_id": "00096-a3d91178-d3ce-4675-a0f6-747a46e3e662",
    "deepnote_cell_type": "markdown"
   }
  },
  {
   "cell_type": "markdown",
   "source": "### Ejercicio 2\n\nCrea un *array* nulo (todo ceros) de tamaño $ 3 \\times 3 $, cuya componente en la primera fila y tercera columna sea un $ 5 $.",
   "metadata": {
    "_uuid": "11565df310b5c7cf84cbe00a38d5d7a5d97006a0",
    "papermill": {
     "duration": 0.122337,
     "end_time": "2020-12-09T08:48:12.496041",
     "exception": false,
     "start_time": "2020-12-09T08:48:12.373704",
     "status": "completed"
    },
    "tags": [],
    "cell_id": "00097-57fad6ba-7a51-4a4e-ab1b-32b798231e54",
    "deepnote_cell_type": "markdown"
   }
  },
  {
   "cell_type": "markdown",
   "source": "### Ejercicio 3\n\nCrear un *array* de tamaño $ 4 \\times 5 $, en los que todos los elementos tengan un valor de $ 2 $.",
   "metadata": {
    "_uuid": "5fcc128e7ccb1e062ec5e9984e23dea8e020ce8f",
    "papermill": {
     "duration": 0.12414,
     "end_time": "2020-12-09T08:48:14.053570",
     "exception": false,
     "start_time": "2020-12-09T08:48:13.929430",
     "status": "completed"
    },
    "tags": [],
    "cell_id": "00098-072530c7-80c6-4a8f-afe8-a1b32452e309",
    "deepnote_cell_type": "markdown"
   }
  },
  {
   "cell_type": "markdown",
   "source": "### Ejercicio 4\n\nConstruir un *array* de tamaño $ 3 \\times 3 $, cuyos elementos de la diagonal principal sean $ 3 $ y los demás ceros.",
   "metadata": {
    "_uuid": "d28cacbeaf4e39520eba245271916ea7f154dff9",
    "papermill": {
     "duration": 0.124303,
     "end_time": "2020-12-09T08:48:15.577103",
     "exception": false,
     "start_time": "2020-12-09T08:48:15.452800",
     "status": "completed"
    },
    "tags": [],
    "cell_id": "00099-089607c4-e995-43ec-9f90-bcd854fa548c",
    "deepnote_cell_type": "markdown"
   }
  },
  {
   "cell_type": "markdown",
   "source": "### Ejercicio 5\n\nCrear un *array* de tamaño $ 5 \\times 5 $ cuyos valores sean consecutivos, y obtener el *array* central de tamaño $ 3 \\times 3 $ que resulta al quitar todos los elementos periféricos.",
   "metadata": {
    "_uuid": "5b39148e3af4902a158f82769d7239ef00c52fe0",
    "papermill": {
     "duration": 0.125608,
     "end_time": "2020-12-09T08:48:17.105520",
     "exception": false,
     "start_time": "2020-12-09T08:48:16.979912",
     "status": "completed"
    },
    "tags": [],
    "cell_id": "00100-a427bae7-1708-4f3e-a921-31ac38093d05",
    "deepnote_cell_type": "markdown"
   }
  },
  {
   "cell_type": "markdown",
   "source": "### Ejercicio 6\n\nBasándonos en el `DataFrame` utilizado previamente, se pide crear un nuevo `DataFrame` que añada, al anterior, una columna llamada `exponential` conteniendo filas provenientes de una distribución exponencial.\n\nUna vez se ha creado dicho `DataFrame`, se pide obtener las filas cuyo valor de la columna `normal` sea menor que $ -2 $ y, además, contengan el valor `friday` en la columna `discrete`. Tras obtener dichas filas, se debe modificar el valor de `exponential` por $ 0.0 $.",
   "metadata": {
    "papermill": {
     "duration": 0.169419,
     "end_time": "2020-12-09T08:48:18.962927",
     "exception": false,
     "start_time": "2020-12-09T08:48:18.793508",
     "status": "completed"
    },
    "tags": [],
    "cell_id": "00101-f48b4ff4-db78-4546-84b4-bf9929d7dedc",
    "deepnote_cell_type": "markdown"
   }
  },
  {
   "cell_type": "markdown",
   "source": "<a style='text-decoration:none;line-height:16px;display:flex;color:#5B5B62;padding:10px;justify-content:end;' href='https://deepnote.com?utm_source=created-in-deepnote-cell&projectId=959ace62-d858-4122-b645-b44780ef06bd' target=\"_blank\">\n<img alt='Created in deepnote.com' style='display:inline;max-height:16px;margin:0px;margin-right:7.5px;' src='data:image/svg+xml;base64,PD94bWwgdmVyc2lvbj0iMS4wIiBlbmNvZGluZz0iVVRGLTgiPz4KPHN2ZyB3aWR0aD0iODBweCIgaGVpZ2h0PSI4MHB4IiB2aWV3Qm94PSIwIDAgODAgODAiIHZlcnNpb249IjEuMSIgeG1sbnM9Imh0dHA6Ly93d3cudzMub3JnLzIwMDAvc3ZnIiB4bWxuczp4bGluaz0iaHR0cDovL3d3dy53My5vcmcvMTk5OS94bGluayI+CiAgICA8IS0tIEdlbmVyYXRvcjogU2tldGNoIDU0LjEgKDc2NDkwKSAtIGh0dHBzOi8vc2tldGNoYXBwLmNvbSAtLT4KICAgIDx0aXRsZT5Hcm91cCAzPC90aXRsZT4KICAgIDxkZXNjPkNyZWF0ZWQgd2l0aCBTa2V0Y2guPC9kZXNjPgogICAgPGcgaWQ9IkxhbmRpbmciIHN0cm9rZT0ibm9uZSIgc3Ryb2tlLXdpZHRoPSIxIiBmaWxsPSJub25lIiBmaWxsLXJ1bGU9ImV2ZW5vZGQiPgogICAgICAgIDxnIGlkPSJBcnRib2FyZCIgdHJhbnNmb3JtPSJ0cmFuc2xhdGUoLTEyMzUuMDAwMDAwLCAtNzkuMDAwMDAwKSI+CiAgICAgICAgICAgIDxnIGlkPSJHcm91cC0zIiB0cmFuc2Zvcm09InRyYW5zbGF0ZSgxMjM1LjAwMDAwMCwgNzkuMDAwMDAwKSI+CiAgICAgICAgICAgICAgICA8cG9seWdvbiBpZD0iUGF0aC0yMCIgZmlsbD0iIzAyNjVCNCIgcG9pbnRzPSIyLjM3NjIzNzYyIDgwIDM4LjA0NzY2NjcgODAgNTcuODIxNzgyMiA3My44MDU3NTkyIDU3LjgyMTc4MjIgMzIuNzU5MjczOSAzOS4xNDAyMjc4IDMxLjY4MzE2ODMiPjwvcG9seWdvbj4KICAgICAgICAgICAgICAgIDxwYXRoIGQ9Ik0zNS4wMDc3MTgsODAgQzQyLjkwNjIwMDcsNzYuNDU0OTM1OCA0Ny41NjQ5MTY3LDcxLjU0MjI2NzEgNDguOTgzODY2LDY1LjI2MTk5MzkgQzUxLjExMjI4OTksNTUuODQxNTg0MiA0MS42NzcxNzk1LDQ5LjIxMjIyODQgMjUuNjIzOTg0Niw0OS4yMTIyMjg0IEMyNS40ODQ5Mjg5LDQ5LjEyNjg0NDggMjkuODI2MTI5Niw0My4yODM4MjQ4IDM4LjY0NzU4NjksMzEuNjgzMTY4MyBMNzIuODcxMjg3MSwzMi41NTQ0MjUgTDY1LjI4MDk3Myw2Ny42NzYzNDIxIEw1MS4xMTIyODk5LDc3LjM3NjE0NCBMMzUuMDA3NzE4LDgwIFoiIGlkPSJQYXRoLTIyIiBmaWxsPSIjMDAyODY4Ij48L3BhdGg+CiAgICAgICAgICAgICAgICA8cGF0aCBkPSJNMCwzNy43MzA0NDA1IEwyNy4xMTQ1MzcsMC4yNTcxMTE0MzYgQzYyLjM3MTUxMjMsLTEuOTkwNzE3MDEgODAsMTAuNTAwMzkyNyA4MCwzNy43MzA0NDA1IEM4MCw2NC45NjA0ODgyIDY0Ljc3NjUwMzgsNzkuMDUwMzQxNCAzNC4zMjk1MTEzLDgwIEM0Ny4wNTUzNDg5LDc3LjU2NzA4MDggNTMuNDE4MjY3Nyw3MC4zMTM2MTAzIDUzLjQxODI2NzcsNTguMjM5NTg4NSBDNTMuNDE4MjY3Nyw0MC4xMjg1NTU3IDM2LjMwMzk1NDQsMzcuNzMwNDQwNSAyNS4yMjc0MTcsMzcuNzMwNDQwNSBDMTcuODQzMDU4NiwzNy43MzA0NDA1IDkuNDMzOTE5NjYsMzcuNzMwNDQwNSAwLDM3LjczMDQ0MDUgWiIgaWQ9IlBhdGgtMTkiIGZpbGw9IiMzNzkzRUYiPjwvcGF0aD4KICAgICAgICAgICAgPC9nPgogICAgICAgIDwvZz4KICAgIDwvZz4KPC9zdmc+' > </img>\nCreated in <span style='font-weight:600;margin-left:4px;'>Deepnote</span></a>",
   "metadata": {
    "tags": [],
    "created_in_deepnote_cell": true,
    "deepnote_cell_type": "markdown"
   }
  }
 ],
 "nbformat": 4,
 "nbformat_minor": 4,
 "metadata": {
  "kernelspec": {
   "display_name": "Python 3",
   "language": "python",
   "name": "python3"
  },
  "language_info": {
   "codemirror_mode": {
    "name": "ipython",
    "version": 3
   },
   "file_extension": ".py",
   "mimetype": "text/x-python",
   "name": "python",
   "nbconvert_exporter": "python",
   "pygments_lexer": "ipython3",
   "version": "3.7.10"
  },
  "papermill": {
   "duration": 40.119701,
   "end_time": "2020-12-09T08:48:21.902318",
   "environment_variables": {},
   "exception": null,
   "input_path": "__notebook__.ipynb",
   "output_path": "__notebook__.ipynb",
   "parameters": {},
   "start_time": "2020-12-09T08:47:41.782617",
   "version": "2.1.0"
  },
  "deepnote_notebook_id": "a0937676-95c1-47a1-9683-e0be5a956909",
  "deepnote": {},
  "deepnote_execution_queue": []
 }
}