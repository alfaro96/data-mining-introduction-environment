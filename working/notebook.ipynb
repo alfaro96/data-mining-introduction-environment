{
 "cells": [
  {
   "cell_type": "markdown",
   "source": [
    "# Práctica 0: Introducción a Jupyter\n",
    "\n",
    "## Minería de Datos: Curso académico 2021-2022\n",
    "\n",
    "### Profesorado:\n",
    "\n",
    "* Juan Carlos Alfaro Jiménez\n",
    "* José Antonio Gámez Martín"
   ],
   "metadata": {
    "id": "RM0YZEL8XQow"
   }
  }
 ],
 "metadata": {
  "colab": {
   "collapsed_sections": [],
   "name": "WebinarPython.ipynb",
   "provenance": [],
   "toc_visible": true
  },
  "kernelspec": {
   "display_name": "Python 3",
   "language": "python",
   "name": "python3"
  },
  "language_info": {
   "codemirror_mode": {
    "name": "ipython",
    "version": 3
   },
   "file_extension": ".py",
   "mimetype": "text/x-python",
   "name": "python",
   "nbconvert_exporter": "python",
   "pygments_lexer": "ipython3",
   "version": "3.8.5"
  }
 },
 "nbformat": 4,
 "nbformat_minor": 4
}